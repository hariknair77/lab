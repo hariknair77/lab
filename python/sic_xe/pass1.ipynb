{
 "cells": [
  {
   "cell_type": "markdown",
   "metadata": {},
   "source": [
    "# First Pass SIC/XE"
   ]
  },
  {
   "cell_type": "code",
   "execution_count": 1,
   "metadata": {},
   "outputs": [
    {
     "name": "stdout",
     "output_type": "stream",
     "text": [
      "Enter file : fib.txt\n"
     ]
    }
   ],
   "source": [
    "path = input('Enter file : ')"
   ]
  },
  {
   "cell_type": "code",
   "execution_count": 2,
   "metadata": {},
   "outputs": [],
   "source": [
    "def split_(line):\n",
    "    line = line[:-1].split(' ')  \n",
    "    while '' in line:\n",
    "        line.remove('')\n",
    "    if len(line) == 2:\n",
    "        line.insert(0,'-')\n",
    "    if len(line) == 1:\n",
    "        line.insert(0,'-')\n",
    "        line.insert(2,'-')\n",
    "    return line"
   ]
  },
  {
   "cell_type": "code",
   "execution_count": 3,
   "metadata": {},
   "outputs": [],
   "source": [
    "op = open('optab')\n",
    "op = op.readlines()\n",
    "op = [split_(i) for i in op]\n",
    "op = [ [i[0],i[2],i[3]] for i in op]\n",
    "\n",
    "optab = {}\n",
    "for i in op:\n",
    "    optab[i[0]] = {'len':int(i[1]),'hex':i[2]}"
   ]
  },
  {
   "cell_type": "code",
   "execution_count": 4,
   "metadata": {},
   "outputs": [],
   "source": [
    "locctr = 0\n",
    "temp = []\n",
    "symtab = {}\n",
    "littab = {}\n",
    "sym  = open('symtab.txt','w')\n",
    "temp = open('temp.txt','w')\n",
    "\n",
    "with open(path,'r') as f:\n",
    "    line = split_(f.readline())\n",
    "    if 'START' in line:\n",
    "        locctr = int(line[-1],16)\n",
    "        start_addr = locctr\n",
    "        temp.write(f'{line[0]} {line[1]} {hex(locctr)[2:].zfill(5)}\\n')\n",
    "        line = split_(f.readline())\n",
    "    else:\n",
    "        locctr=start_addr=0\n",
    "    while line:\n",
    "        if '.' not in line:\n",
    "            if line[0] != '-':\n",
    "                if line[0] in symtab:\n",
    "                    print('Duplicate error')\n",
    "                else:\n",
    "                    symtab[line[0]] = locctr\n",
    "                    sym.write(f'{line[0]} {hex(locctr)[2:].zfill(5)}\\n')\n",
    "            temp.write(f'{hex(locctr)[2:].zfill(5)} {line[1]} {line[2]}\\n')\n",
    "            if '=' in line[2]:\n",
    "                if line[2] not in littab:\n",
    "                    littab[line[2]] = '-'\n",
    "            if line[1] in optab or line[1][1:] in optab:\n",
    "                if '+' in line[1]:\n",
    "                        locctr += 4\n",
    "                elif optab[line[1]]['len'] == 1:\n",
    "                    locctr += 1\n",
    "                elif optab[line[1]]['len'] == 2:\n",
    "                    locctr += 2\n",
    "                else:\n",
    "                    locctr += 3\n",
    "            elif line[1] == 'WORD':\n",
    "                locctr += 3\n",
    "            elif line[1] == 'BYTE':\n",
    "                if 'x' in line[2]:\n",
    "                    locctr += (len(line[2])-3)/2\n",
    "                else:\n",
    "                    locctr += len(line[2])-3\n",
    "            elif line[1] == 'RESW':\n",
    "                locctr += 3*int(line[2])\n",
    "            elif line[1] == 'RESB':\n",
    "                locctr += int(line[2])\n",
    "            elif line[1] == 'END':\n",
    "                temp.write(f'{hex(locctr)[2:].zfill(5)} {line[1]} {start_addr}\\n')\n",
    "                break\n",
    "        line = split_(f.readline())\n",
    "\n",
    "prg_len = hex(locctr-start_addr)[2:].zfill(5)\n",
    "temp.close()\n",
    "sym.close()"
   ]
  },
  {
   "cell_type": "code",
   "execution_count": null,
   "metadata": {},
   "outputs": [],
   "source": []
  }
 ],
 "metadata": {
  "kernelspec": {
   "display_name": "Python 3",
   "language": "python",
   "name": "python3"
  },
  "language_info": {
   "codemirror_mode": {
    "name": "ipython",
    "version": 3
   },
   "file_extension": ".py",
   "mimetype": "text/x-python",
   "name": "python",
   "nbconvert_exporter": "python",
   "pygments_lexer": "ipython3",
   "version": "3.6.9"
  }
 },
 "nbformat": 4,
 "nbformat_minor": 2
}
