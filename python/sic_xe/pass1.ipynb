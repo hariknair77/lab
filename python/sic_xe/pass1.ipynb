{
 "cells": [
  {
   "cell_type": "markdown",
   "metadata": {},
   "source": [
    "# First Pass SIC/XE"
   ]
  },
  {
   "cell_type": "code",
   "execution_count": 1,
   "metadata": {},
   "outputs": [
    {
     "name": "stdout",
     "output_type": "stream",
     "text": [
      "Enter file : fib.txt\n"
     ]
    }
   ],
   "source": [
    "path = input('Enter file : ')"
   ]
  },
  {
   "cell_type": "code",
   "execution_count": 1,
   "metadata": {},
   "outputs": [],
   "source": [
    "def split_(line):\n",
    "    line = line[:-1].split(' ')  \n",
    "    while '' in line:\n",
    "        line.remove('')\n",
    "    if len(line) == 2:\n",
    "        line.insert(0,'-')\n",
    "    if len(line) == 1:\n",
    "        line.insert(0,'-')\n",
    "        line.insert(2,'-')\n",
    "    return line"
   ]
  },
  {
   "cell_type": "code",
   "execution_count": 12,
   "metadata": {},
   "outputs": [],
   "source": [
    "op = open('optab')\n",
    "op = op.readlines()\n",
    "op = [split_(i) for i in op]\n",
    "op = [ [i[0],i[2],i[3]] for i in op]\n",
    "\n",
    "\n",
    "optab = open('optab.dat','w')\n",
    "for i in op:\n",
    "#     optab[i[0]] = {'len':int(i[1]),'hex':i[2]}\n",
    "    optab.write(i[0]+' '+ i[1]+' ' +i[2]+'\\n')\n",
    "optab.close()"
   ]
  },
  {
   "cell_type": "code",
   "execution_count": 19,
   "metadata": {},
   "outputs": [
    {
     "data": {
      "text/plain": [
       "['18',\n",
       " '58',\n",
       " '90',\n",
       " '40',\n",
       " 'B4',\n",
       " '28',\n",
       " '88',\n",
       " 'A0',\n",
       " '24',\n",
       " '64',\n",
       " '9C',\n",
       " 'C4',\n",
       " 'C0',\n",
       " 'F4',\n",
       " '3C',\n",
       " '30',\n",
       " '34',\n",
       " '38',\n",
       " '48',\n",
       " '00',\n",
       " '68',\n",
       " '50',\n",
       " '70',\n",
       " '08',\n",
       " '6C',\n",
       " '74',\n",
       " '04',\n",
       " 'D0',\n",
       " '20',\n",
       " '60',\n",
       " '98',\n",
       " 'C8',\n",
       " '44',\n",
       " 'D8',\n",
       " 'AC',\n",
       " '4C',\n",
       " 'A4',\n",
       " 'A8',\n",
       " 'F0',\n",
       " 'EC',\n",
       " '0C',\n",
       " '78',\n",
       " '54',\n",
       " '80',\n",
       " 'D4',\n",
       " '14',\n",
       " '7C',\n",
       " 'E8',\n",
       " '84',\n",
       " '10',\n",
       " '1C',\n",
       " '5C',\n",
       " '94',\n",
       " 'B0',\n",
       " 'E0',\n",
       " 'F8',\n",
       " '2C',\n",
       " 'B8',\n",
       " 'DC']"
      ]
     },
     "execution_count": 19,
     "metadata": {},
     "output_type": "execute_result"
    }
   ],
   "source": [
    "[i[2]for i in op]"
   ]
  },
  {
   "cell_type": "code",
   "execution_count": 4,
   "metadata": {},
   "outputs": [],
   "source": [
    "locctr = 0\n",
    "temp = []\n",
    "symtab = {}\n",
    "littab = {}\n",
    "sym  = open('symtab.txt','w')\n",
    "temp = open('temp.txt','w')\n",
    "\n",
    "with open(path,'r') as f:\n",
    "    line = split_(f.readline())\n",
    "    if 'START' in line:\n",
    "        locctr = int(line[-1],16)\n",
    "        start_addr = locctr\n",
    "        temp.write(f'{line[0]} {line[1]} {hex(locctr)[2:].zfill(5)}\\n')\n",
    "        line = split_(f.readline())\n",
    "    else:\n",
    "        locctr=start_addr=0\n",
    "    while line:\n",
    "        if '.' not in line:\n",
    "            if line[0] != '-':\n",
    "                if line[0] in symtab:\n",
    "                    print('Duplicate error')\n",
    "                else:\n",
    "                    symtab[line[0]] = locctr\n",
    "                    sym.write(f'{line[0]} {hex(locctr)[2:].zfill(5)}\\n')\n",
    "            temp.write(f'{hex(locctr)[2:].zfill(5)} {line[1]} {line[2]}\\n')\n",
    "            if '=' in line[2]:\n",
    "                if line[2] not in littab:\n",
    "                    littab[line[2]] = '-'\n",
    "            if line[1] in optab or line[1][1:] in optab:\n",
    "                if '+' in line[1]:\n",
    "                        locctr += 4\n",
    "                elif optab[line[1]]['len'] == 1:\n",
    "                    locctr += 1\n",
    "                elif optab[line[1]]['len'] == 2:\n",
    "                    locctr += 2\n",
    "                else:\n",
    "                    locctr += 3\n",
    "            elif line[1] == 'WORD':\n",
    "                locctr += 3\n",
    "            elif line[1] == 'BYTE':\n",
    "                if 'x' in line[2]:\n",
    "                    locctr += (len(line[2])-3)/2\n",
    "                else:\n",
    "                    locctr += len(line[2])-3\n",
    "            elif line[1] == 'RESW':\n",
    "                locctr += 3*int(line[2])\n",
    "            elif line[1] == 'RESB':\n",
    "                locctr += int(line[2])\n",
    "            elif line[1] == 'END':\n",
    "                temp.write(f'{hex(locctr)[2:].zfill(5)} {line[1]} {start_addr}\\n')\n",
    "                break\n",
    "        line = split_(f.readline())\n",
    "\n",
    "prg_len = hex(locctr-start_addr)[2:].zfill(5)\n",
    "temp.close()\n",
    "sym.close()"
   ]
  },
  {
   "cell_type": "code",
   "execution_count": 3,
   "metadata": {},
   "outputs": [
    {
     "data": {
      "text/plain": [
       "{'ADD': {'hex': '18', 'len': 3},\n",
       " 'ADDF': {'hex': '58', 'len': 3},\n",
       " 'ADDR': {'hex': '90', 'len': 2},\n",
       " 'AND': {'hex': '40', 'len': 3},\n",
       " 'CLEAR': {'hex': 'B4', 'len': 2},\n",
       " 'COMP': {'hex': '28', 'len': 3},\n",
       " 'COMPF': {'hex': '88', 'len': 3},\n",
       " 'COMPR': {'hex': 'A0', 'len': 2},\n",
       " 'DIV': {'hex': '24', 'len': 3},\n",
       " 'DIVF': {'hex': '64', 'len': 3},\n",
       " 'DIVR': {'hex': '9C', 'len': 2},\n",
       " 'FIX': {'hex': 'C4', 'len': 1},\n",
       " 'FLOAT': {'hex': 'C0', 'len': 1},\n",
       " 'HIO': {'hex': 'F4', 'len': 1},\n",
       " 'J': {'hex': '3C', 'len': 3},\n",
       " 'JEQ': {'hex': '30', 'len': 3},\n",
       " 'JGT': {'hex': '34', 'len': 3},\n",
       " 'JLT': {'hex': '38', 'len': 3},\n",
       " 'JSUB': {'hex': '48', 'len': 3},\n",
       " 'LDA': {'hex': '00', 'len': 3},\n",
       " 'LDB': {'hex': '68', 'len': 3},\n",
       " 'LDCH': {'hex': '50', 'len': 3},\n",
       " 'LDF': {'hex': '70', 'len': 3},\n",
       " 'LDL': {'hex': '08', 'len': 3},\n",
       " 'LDS': {'hex': '6C', 'len': 3},\n",
       " 'LDT': {'hex': '74', 'len': 3},\n",
       " 'LDX': {'hex': '04', 'len': 3},\n",
       " 'LPS': {'hex': 'D0', 'len': 3},\n",
       " 'MUL': {'hex': '20', 'len': 3},\n",
       " 'MULF': {'hex': '60', 'len': 3},\n",
       " 'MULR': {'hex': '98', 'len': 2},\n",
       " 'NORM': {'hex': 'C8', 'len': 1},\n",
       " 'OR': {'hex': '44', 'len': 3},\n",
       " 'RD': {'hex': 'D8', 'len': 3},\n",
       " 'RMO': {'hex': 'AC', 'len': 2},\n",
       " 'RSUB': {'hex': '4C', 'len': 3},\n",
       " 'SHIFTL': {'hex': 'A4', 'len': 2},\n",
       " 'SHIFTR': {'hex': 'A8', 'len': 2},\n",
       " 'SIO': {'hex': 'F0', 'len': 1},\n",
       " 'SSK': {'hex': 'EC', 'len': 3},\n",
       " 'STA': {'hex': '0C', 'len': 3},\n",
       " 'STB': {'hex': '78', 'len': 3},\n",
       " 'STCH': {'hex': '54', 'len': 3},\n",
       " 'STF': {'hex': '80', 'len': 3},\n",
       " 'STI': {'hex': 'D4', 'len': 3},\n",
       " 'STL': {'hex': '14', 'len': 3},\n",
       " 'STS': {'hex': '7C', 'len': 3},\n",
       " 'STSW': {'hex': 'E8', 'len': 3},\n",
       " 'STT': {'hex': '84', 'len': 3},\n",
       " 'STX': {'hex': '10', 'len': 3},\n",
       " 'SUB': {'hex': '1C', 'len': 3},\n",
       " 'SUBF': {'hex': '5C', 'len': 3},\n",
       " 'SUBR': {'hex': '94', 'len': 2},\n",
       " 'SVC': {'hex': 'B0', 'len': 2},\n",
       " 'TD': {'hex': 'E0', 'len': 3},\n",
       " 'TIO': {'hex': 'F8', 'len': 1},\n",
       " 'TIX': {'hex': '2C', 'len': 3},\n",
       " 'TIXR': {'hex': 'B8', 'len': 2},\n",
       " 'WD': {'hex': 'DC', 'len': 3}}"
      ]
     },
     "execution_count": 3,
     "metadata": {},
     "output_type": "execute_result"
    }
   ],
   "source": [
    "optab"
   ]
  },
  {
   "cell_type": "code",
   "execution_count": null,
   "metadata": {},
   "outputs": [],
   "source": []
  }
 ],
 "metadata": {
  "kernelspec": {
   "display_name": "Python 3",
   "language": "python",
   "name": "python3"
  },
  "language_info": {
   "codemirror_mode": {
    "name": "ipython",
    "version": 3
   },
   "file_extension": ".py",
   "mimetype": "text/x-python",
   "name": "python",
   "nbconvert_exporter": "python",
   "pygments_lexer": "ipython3",
   "version": "3.5.2"
  }
 },
 "nbformat": 4,
 "nbformat_minor": 2
}
