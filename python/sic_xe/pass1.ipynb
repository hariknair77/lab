{
 "cells": [
  {
   "cell_type": "markdown",
   "metadata": {},
   "source": [
    "# First Pass SIC/XE"
   ]
  },
  {
   "cell_type": "code",
   "execution_count": 1,
   "metadata": {},
   "outputs": [
    {
     "name": "stdout",
     "output_type": "stream",
     "text": [
      "Enter file : fib.txt\n"
     ]
    }
   ],
   "source": [
    "path = input('Enter file : ')"
   ]
  },
  {
   "cell_type": "code",
   "execution_count": 3,
   "metadata": {},
   "outputs": [],
   "source": [
    "def split_(line):\n",
    "    line = line[:-1].split(' ')  \n",
    "    while '' in line:\n",
    "        line.remove('')\n",
    "    if len(line) == 2:\n",
    "        line.insert(0,'-')\n",
    "    if len(line) == 1:\n",
    "        line.insert(0,'-')\n",
    "        line.insert(2,'-')\n",
    "    return line"
   ]
  },
  {
   "cell_type": "code",
   "execution_count": 10,
   "metadata": {},
   "outputs": [],
   "source": [
    "op = open('optab')\n",
    "op = op.readlines()\n",
    "op = [split_(i) for i in op]\n",
    "op = [ [i[0],i[2],i[3]] for i in op]\n",
    "\n",
    "optab = {}\n",
    "for i in op:\n",
    "    optab[i[0]] = {'len':int(i[1]),'hex':i[2]}"
   ]
  },
  {
   "cell_type": "code",
   "execution_count": 4,
   "metadata": {},
   "outputs": [],
   "source": [
    "locctr = 0\n",
    "temp = []\n",
    "symtab = {}\n",
    "littab = {}\n",
    "sym  = open('symtab.txt','w')\n",
    "temp = open('temp.txt','w')\n",
    "\n",
    "with open(path,'r') as f:\n",
    "    line = split_(f.readline())\n",
    "    if 'START' in line:\n",
    "        locctr = int(line[-1],16)\n",
    "        start_addr = locctr\n",
    "        temp.write(f'{line[0]} {line[1]} {hex(locctr)[2:].zfill(5)}\\n')\n",
    "        line = split_(f.readline())\n",
    "    else:\n",
    "        locctr=start_addr=0\n",
    "    while line:\n",
    "        if '.' not in line:\n",
    "            if line[0] != '-':\n",
    "                if line[0] in symtab:\n",
    "                    print('Duplicate error')\n",
    "                else:\n",
    "                    symtab[line[0]] = locctr\n",
    "                    sym.write(f'{line[0]} {hex(locctr)[2:].zfill(5)}\\n')\n",
    "            temp.write(f'{hex(locctr)[2:].zfill(5)} {line[1]} {line[2]}\\n')\n",
    "            if '=' in line[2]:\n",
    "                if line[2] not in littab:\n",
    "                    littab[line[2]] = '-'\n",
    "            if line[1] in optab or line[1][1:] in optab:\n",
    "                if '+' in line[1]:\n",
    "                        locctr += 4\n",
    "                elif optab[line[1]]['len'] == 1:\n",
    "                    locctr += 1\n",
    "                elif optab[line[1]]['len'] == 2:\n",
    "                    locctr += 2\n",
    "                else:\n",
    "                    locctr += 3\n",
    "            elif line[1] == 'WORD':\n",
    "                locctr += 3\n",
    "            elif line[1] == 'BYTE':\n",
    "                if 'x' in line[2]:\n",
    "                    locctr += (len(line[2])-3)/2\n",
    "                else:\n",
    "                    locctr += len(line[2])-3\n",
    "            elif line[1] == 'RESW':\n",
    "                locctr += 3*int(line[2])\n",
    "            elif line[1] == 'RESB':\n",
    "                locctr += int(line[2])\n",
    "            elif line[1] == 'END':\n",
    "                temp.write(f'{hex(locctr)[2:].zfill(5)} {line[1]} {start_addr}\\n')\n",
    "                break\n",
    "        line = split_(f.readline())\n",
    "\n",
    "prg_len = hex(locctr-start_addr)[2:].zfill(5)\n",
    "temp.close()\n",
    "sym.close()"
   ]
  },
  {
   "cell_type": "code",
   "execution_count": 11,
   "metadata": {},
   "outputs": [
    {
     "data": {
      "text/plain": [
       "{'ADD': {'len': 3, 'hex': '18'},\n",
       " 'ADDF': {'len': 3, 'hex': '58'},\n",
       " 'ADDR': {'len': 2, 'hex': '90'},\n",
       " 'AND': {'len': 3, 'hex': '40'},\n",
       " 'CLEAR': {'len': 2, 'hex': 'B4'},\n",
       " 'COMP': {'len': 3, 'hex': '28'},\n",
       " 'COMPF': {'len': 3, 'hex': '88'},\n",
       " 'COMPR': {'len': 2, 'hex': 'A0'},\n",
       " 'DIV': {'len': 3, 'hex': '24'},\n",
       " 'DIVF': {'len': 3, 'hex': '64'},\n",
       " 'DIVR': {'len': 2, 'hex': '9C'},\n",
       " 'FIX': {'len': 1, 'hex': 'C4'},\n",
       " 'FLOAT': {'len': 1, 'hex': 'C0'},\n",
       " 'HIO': {'len': 1, 'hex': 'F4'},\n",
       " 'J': {'len': 3, 'hex': '3C'},\n",
       " 'JEQ': {'len': 3, 'hex': '30'},\n",
       " 'JGT': {'len': 3, 'hex': '34'},\n",
       " 'JLT': {'len': 3, 'hex': '38'},\n",
       " 'JSUB': {'len': 3, 'hex': '48'},\n",
       " 'LDA': {'len': 3, 'hex': '00'},\n",
       " 'LDB': {'len': 3, 'hex': '68'},\n",
       " 'LDCH': {'len': 3, 'hex': '50'},\n",
       " 'LDF': {'len': 3, 'hex': '70'},\n",
       " 'LDL': {'len': 3, 'hex': '08'},\n",
       " 'LDS': {'len': 3, 'hex': '6C'},\n",
       " 'LDT': {'len': 3, 'hex': '74'},\n",
       " 'LDX': {'len': 3, 'hex': '04'},\n",
       " 'LPS': {'len': 3, 'hex': 'D0'},\n",
       " 'MUL': {'len': 3, 'hex': '20'},\n",
       " 'MULF': {'len': 3, 'hex': '60'},\n",
       " 'MULR': {'len': 2, 'hex': '98'},\n",
       " 'NORM': {'len': 1, 'hex': 'C8'},\n",
       " 'OR': {'len': 3, 'hex': '44'},\n",
       " 'RD': {'len': 3, 'hex': 'D8'},\n",
       " 'RMO': {'len': 2, 'hex': 'AC'},\n",
       " 'RSUB': {'len': 3, 'hex': '4C'},\n",
       " 'SHIFTL': {'len': 2, 'hex': 'A4'},\n",
       " 'SHIFTR': {'len': 2, 'hex': 'A8'},\n",
       " 'SIO': {'len': 1, 'hex': 'F0'},\n",
       " 'SSK': {'len': 3, 'hex': 'EC'},\n",
       " 'STA': {'len': 3, 'hex': '0C'},\n",
       " 'STB': {'len': 3, 'hex': '78'},\n",
       " 'STCH': {'len': 3, 'hex': '54'},\n",
       " 'STF': {'len': 3, 'hex': '80'},\n",
       " 'STI': {'len': 3, 'hex': 'D4'},\n",
       " 'STL': {'len': 3, 'hex': '14'},\n",
       " 'STS': {'len': 3, 'hex': '7C'},\n",
       " 'STSW': {'len': 3, 'hex': 'E8'},\n",
       " 'STT': {'len': 3, 'hex': '84'},\n",
       " 'STX': {'len': 3, 'hex': '10'},\n",
       " 'SUB': {'len': 3, 'hex': '1C'},\n",
       " 'SUBF': {'len': 3, 'hex': '5C'},\n",
       " 'SUBR': {'len': 2, 'hex': '94'},\n",
       " 'SVC': {'len': 2, 'hex': 'B0'},\n",
       " 'TD': {'len': 3, 'hex': 'E0'},\n",
       " 'TIO': {'len': 1, 'hex': 'F8'},\n",
       " 'TIX': {'len': 3, 'hex': '2C'},\n",
       " 'TIXR': {'len': 2, 'hex': 'B8'},\n",
       " 'WD': {'len': 3, 'hex': 'DC'}}"
      ]
     },
     "execution_count": 11,
     "metadata": {},
     "output_type": "execute_result"
    }
   ],
   "source": [
    "optab"
   ]
  },
  {
   "cell_type": "code",
   "execution_count": null,
   "metadata": {},
   "outputs": [],
   "source": []
  }
 ],
 "metadata": {
  "kernelspec": {
   "display_name": "Python 3",
   "language": "python",
   "name": "python3"
  },
  "language_info": {
   "codemirror_mode": {
    "name": "ipython",
    "version": 3
   },
   "file_extension": ".py",
   "mimetype": "text/x-python",
   "name": "python",
   "nbconvert_exporter": "python",
   "pygments_lexer": "ipython3",
   "version": "3.6.9"
  }
 },
 "nbformat": 4,
 "nbformat_minor": 2
}
