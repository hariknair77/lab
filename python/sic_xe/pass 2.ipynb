{
 "cells": [
  {
   "cell_type": "code",
   "execution_count": 1,
   "metadata": {},
   "outputs": [],
   "source": [
    "def split_(line):\n",
    "    line = line[:-1].split(' ')  \n",
    "    while '' in line:\n",
    "        line.remove('')\n",
    "    return line\n",
    "    \n",
    "regtab = {'A': 0, 'X': 1, 'L': 2, 'B': 3,'S': 4, 'T': 5, 'PC': 8, 'SW': 9}\n",
    "\n",
    "#creating opcode table\n",
    "op = open('optab')\n",
    "op = op.readlines()\n",
    "op = [split_(i) for i in op]\n",
    "op = [ [i[0],i[2],i[3]] for i in op]\n",
    "optab = {}\n",
    "for i in op:\n",
    "    optab[i[0]] = {'len':int(i[1]),'hex':i[2]}\n",
    "\n",
    "#symtab\n",
    "with open('symtab.txt') as f:\n",
    "    sym = f.readlines()\n",
    "sym = [i[:-1].split(' ') for i in sym]\n",
    "symtab = {}\n",
    "for i in sym:\n",
    "    symtab[i[0]] = i[1]    \n",
    "    "
   ]
  },
  {
   "cell_type": "code",
   "execution_count": 46,
   "metadata": {},
   "outputs": [],
   "source": [
    "#tohex\n",
    "def tohex(n):\n",
    "    return hex((n) & 0xFFF)[2:]"
   ]
  },
  {
   "cell_type": "code",
   "execution_count": 2,
   "metadata": {},
   "outputs": [],
   "source": [
    "# obj = open('obj.txt','w')\n",
    "len = '000200'\n",
    "prg_name = '------'\n",
    "pc = 0"
   ]
  },
  {
   "cell_type": "code",
   "execution_count": 57,
   "metadata": {},
   "outputs": [
    {
     "name": "stdout",
     "output_type": "stream",
     "text": [
      "H^FIBO^00000^000200\n",
      "6d000a\n",
      "4b100011\n",
      "4b10002e\n",
      "e3a027\n",
      "33a00b\n",
      "dba021\n",
      "A005\n",
      "3ba00e\n",
      "A004\n",
      "37a00e\n",
      "0fa006\n",
      "4f0000\n",
      "050000\n",
      "6d0001\n",
      "010000\n",
      "77aff7\n",
      "e3a03c\n",
      "33a01d\n",
      "dfa036\n",
      "9040\n",
      "0fa053\n",
      "7fa053\n",
      "03a050\n",
      "6fa04a\n",
      "3ba035\n"
     ]
    }
   ],
   "source": [
    "with open('temp.txt') as f:\n",
    "    line = f.readline()[:-1].split(' ')\n",
    "    if 'START' in line:\n",
    "        if line[0] != '-':\n",
    "            prg_name = line[0]        \n",
    "        linr = f.readline()[:-1].split(' ')\n",
    "    print(f'H^{prg_name}^{line[-1]}^{len}')\n",
    "    while line:       \n",
    "        flag = 0\n",
    "        index = 1\n",
    "        addr,op,opr = line\n",
    "        if '+' in op:\n",
    "            flag = 1\n",
    "            op = op[1:]\n",
    "        if op in optab:\n",
    "            if optab[op]['len'] == 2:\n",
    "                pc =+ 2\n",
    "                if ',' in opr:\n",
    "                    print(f\"{optab[op]['hex']}{regtab[opr[0]]}{regtab[opr[-1]]}\")\n",
    "                else:\n",
    "                    print(f\"{optab[op]['hex']}{regtab[opr[0]]}0\")\n",
    "            elif optab[op]['len'] == 3:\n",
    "                pc += 3\n",
    "                if ',' in opr:      #index mode\n",
    "                        index = 1\n",
    "                if flag:                            # extended mode \n",
    "                    pc += 1\n",
    "                    op = tohex(int(optab[op]['hex'],16)^3).zfill(2) + '1'\n",
    "                    opr = symtab[opr].zfill(5)\n",
    "                    print(op+opr)\n",
    "                elif '#' in opr:                    #immediate\n",
    "                    op = tohex(int(optab[op]['hex'],16)^1).zfill(2)\n",
    "                    if (opr[1:]).isdigit:\n",
    "                        opr = hex(int(opr[1:]))[2:].zfill(4)\n",
    "                    print(op+opr)                          \n",
    "                elif '@' in opr:                    #indirect\n",
    "                    print('ooops')\n",
    "                    op = tohex(int(optab[op]['hex'],16)^2).zfill(2)\n",
    "                elif opr == '-':\n",
    "                    op = tohex(int(optab[op]['hex'],16)^3).zfill(2)\n",
    "                    print(op+'0000')\n",
    "                else:\n",
    "#                     if opr != '-':\n",
    "                    disp = int(symtab[opr],16) - pc      \n",
    "                    if disp >= -2048 and disp <= 2047:\n",
    "                        d = tohex(disp).zfill(3) \n",
    "                        if index:\n",
    "                              opr = 'a' + d\n",
    "                        else:\n",
    "                              opr = '2' + d\n",
    "                    op = tohex(int(optab[op]['hex'],16)^3).zfill(2)  \n",
    "                    print(op+opr)\n",
    "                    \n",
    "        line = f.readline()[:-1].split(' ')\n",
    "        if 'END' in line:\n",
    "            break\n",
    "            \n",
    "    "
   ]
  },
  {
   "cell_type": "code",
   "execution_count": null,
   "metadata": {},
   "outputs": [],
   "source": []
  }
 ],
 "metadata": {
  "kernelspec": {
   "display_name": "Python 3",
   "language": "python",
   "name": "python3"
  },
  "language_info": {
   "codemirror_mode": {
    "name": "ipython",
    "version": 3
   },
   "file_extension": ".py",
   "mimetype": "text/x-python",
   "name": "python",
   "nbconvert_exporter": "python",
   "pygments_lexer": "ipython3",
   "version": "3.5.2"
  }
 },
 "nbformat": 4,
 "nbformat_minor": 2
}
