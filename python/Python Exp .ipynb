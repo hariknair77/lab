{
 "cells": [
  {
   "cell_type": "code",
   "execution_count": null,
   "metadata": {
    "scrolled": false
   },
   "outputs": [],
   "source": [
    "from datetime import datetime \n",
    "from math import sqrt\n",
    "\n",
    "start = datetime.now()\n",
    "res =[]\n",
    "t = int(input())\n",
    "for i in range(t):\n",
    "    limits = list(map(int,input().split(' ')))\n",
    "    prime = []\n",
    "    for j in range(limits[0],limits[-1]+1):\n",
    "        if j>1 and (j%2 != 0 or j%3 != 0 or j%5 != 0 or j%7 != 0 or j%11 != 0 or j%13 != 0) :\n",
    "            for k in range(2,int(sqrt(j)+1)):\n",
    "                if(j%k==0):\n",
    "                    break\n",
    "            else:\n",
    "                 prime.append(j)   \n",
    "    res.append(prime)\t\n",
    "for i in res:\n",
    "    for j in i:\n",
    "        print(j,end=' ')\n",
    "    print('\\n')    \n",
    "print('\\nTotal time =',datetime.now() - start)    "
   ]
  },
  {
   "cell_type": "code",
   "execution_count": null,
   "metadata": {},
   "outputs": [],
   "source": [
    "# your code goes here\n",
    "# import datetime \n",
    "from sympy import primerange\n",
    "\n",
    "# start = datetime.datetime.now()\n",
    "res =[]\n",
    "t = int(input())\n",
    "for i in range(t):\n",
    "    limits = list(map(int,input().split(' ')))\n",
    "    res.append(primerange(limits[0],limits[-1]))\n",
    "    print(type(res[0]))\n",
    "for i in res:\n",
    "    for j in i:\n",
    "        print(j)\n",
    "    print('\\n')    \n",
    "# print('\\nTotal time =',datetime.datetime.now() - start)    "
   ]
  },
  {
   "cell_type": "markdown",
   "metadata": {},
   "source": [
    "Total time = 0:00:03.807941\n",
    "Total time = 0:00:05.736341"
   ]
  },
  {
   "cell_type": "code",
   "execution_count": null,
   "metadata": {},
   "outputs": [],
   "source": [
    "\n",
    "from random import randint\n",
    "\n",
    "n = int(input('Enter number of process :'))\n",
    "process_list = [[i,randint(1,20),randint(1,20)] for i in range(n)]\n",
    "process_list.sort(key=lambda x:x[1])\n",
    "\n",
    "def disp(process):\n",
    "    print('pno\\tArival\\tBurst')\n",
    "    print('*'*25)\n",
    "    for i in process:\n",
    "        for j in i:\n",
    "            print(j,end='\\t')\n",
    "        print('\\n')    \n",
    "\n",
    "disp(process_list)    \n",
    "\n",
    "wt = []\n",
    "tot_wt = 0\n",
    "\n",
    "\n",
    "sjf = []    \n",
    "current_time = process_list[0][1]+process_list[0][2]\n",
    "wt.append([0,process_list[0][1],process_list[0][2]]) # first prorcess\n",
    "tot_turn_around_time = process_list[0][2] # first prorcess burst time \n",
    "sjf.append(process_list.pop(0))\n",
    "\n",
    "i = 0\n",
    "\n",
    "for _ in range(len(process_list)):\n",
    "    temp = [ p for p in process_list if p[1]<=current_time]\n",
    "    if temp:    \n",
    "        next_process = min(temp,key=lambda x:x[2])                    \n",
    "        process_list.remove(next_process)\n",
    "    else:\n",
    "        next_process = process_list.pop(0)\n",
    "    current_time+=(next_process[1]+next_process[2])\n",
    "    sjf.append(next_process)\n",
    "    \n",
    "    waiting_time =  sum(wt[i])-next_process[1] \n",
    "    if waiting_time < 0 :\n",
    "        waiting_time = 0\n",
    "    wt.append([waiting_time,next_process[1],next_process[2]])\n",
    "    tot_wt += waiting_time\n",
    "    tot_turn_around_time += (waiting_time+next_process[2])\n",
    "    i += 1\n",
    "\n",
    "disp(sjf)\n",
    "\n",
    "\n",
    "print(f'Average waiting time = {tot_wt/n}')\n",
    "print(f'Average Turn around time time = {tot_turn_around_time/n}')"
   ]
  },
  {
   "cell_type": "code",
   "execution_count": null,
   "metadata": {},
   "outputs": [],
   "source": [
    "from random import randint\n",
    "\n",
    "# utility function\n",
    "\n",
    "\n",
    "def disp(process):\n",
    "    print('pno\\tArival\\tBurst')\n",
    "    print('*'*25)\n",
    "    for i in process:\n",
    "        for j in i:\n",
    "            print(j, end='\\t')\n",
    "        print('\\n')\n",
    "\n",
    "\n",
    "n = int(input('Enter number of process :'))\n",
    "# creating process using randint\n",
    "process_list = [[i, randint(1, 20), randint(1, 20)] for i in range(n)]\n",
    "print('\\nProcess list')\n",
    "disp(process_list)\n",
    "# sort with arival time\n",
    "process_list.sort(key=lambda x: x[1])\n",
    "# FCFS\n",
    "print('FCFS')\n",
    "disp(process_list)\n",
    "\n",
    "\n",
    "i = 0\n",
    "tot_wt = 0\n",
    "wt = [0]\n",
    "tot_turn_around_time = process_list[0][2]  # first prorcess burst time\n",
    "# wt.append([0, process_list[0][1], process_list[0][2]])  # first prorcess\n",
    "\n",
    "\n",
    "# for process in process_list:\n",
    "#     waiting_time = sum(wt[i])-process[1]\n",
    "#     if waiting_time < 0:\n",
    "#         waiting_time = 0\n",
    "#     wt.append([waiting_time, process[1], process[2]])\n",
    "#     tot_wt += waiting_time\n",
    "#     tot_turn_around_time += (waiting_time+process[2])\n",
    "#     i += 1\n",
    "for i in range(1,len(process_list)-1):\n",
    "    wt.append(wt[i]+sum(process_list[i-1][1:]) - process_list[i][1])\n",
    "\n",
    "\n",
    "# print(f'Average waiting time = {tot_wt/n}')\n",
    "# print(f'Average Turn around time time = {tot_turn_around_time/n}')\n"
   ]
  },
  {
   "cell_type": "code",
   "execution_count": null,
   "metadata": {},
   "outputs": [],
   "source": [
    "from random import randint\n",
    "from operator import add\n",
    "\n",
    "def disp(process):\n",
    "    print('pno\\tBurst')\n",
    "    print('*'*25)\n",
    "    for i in process:\n",
    "        for j in i:\n",
    "            print(j, end='\\t')\n",
    "        print('\\n')\n",
    "\n",
    "\n",
    "n = int(input('Enter number of process :'))\n",
    "process_list = [[i,randint(1, 20)] for i in range(n)]\n",
    "disp(process_list)\n",
    "\n",
    "wt = [0]\n",
    "bt = [j[1] for j in process_list]\n",
    "\n",
    "for i in range(len(process_list)-1):\n",
    "    wt.append(wt[i]+bt[i])\n",
    "tt = list(map(add,wt,bt)) \n",
    "    \n",
    "print(f'Average waiting time = {sum(wt)/n}')\n",
    "print(f'Average Turn around time time = {sum(tt)/n}')"
   ]
  },
  {
   "cell_type": "code",
   "execution_count": null,
   "metadata": {},
   "outputs": [],
   "source": [
    "from operator import itemgetter\n",
    "plist.sort(key = itemgetter(1,2) )\n",
    "print(plist)"
   ]
  },
  {
   "cell_type": "code",
   "execution_count": 5,
   "metadata": {},
   "outputs": [
    {
     "name": "stdout",
     "output_type": "stream",
     "text": [
      "661\n"
     ]
    }
   ],
   "source": [
    "#fcfs disk scheduling\n",
    "# cp = 55\n",
    "disk = [55,93,176,42,148,27,14,180]\n",
    "dist = 0\n",
    "for i in range(len(disk)-1):\n",
    "    dist += abs(disk[i]-disk[i+1])\n",
    "print(dist)    "
   ]
  },
  {
   "cell_type": "code",
   "execution_count": 4,
   "metadata": {},
   "outputs": [
    {
     "name": "stdout",
     "output_type": "stream",
     "text": [
      "207\n"
     ]
    }
   ],
   "source": [
    "#sjf disk scheduling\n",
    "def seek_time(i):\n",
    "    return abs(cp-i)\n",
    "\n",
    "dist = 0\n",
    "cp = 55\n",
    "disk = [93,176,42,148,27,14,180]\n",
    "while disk:    \n",
    "    new_cp = sorted(disk,key=seek_time)[0]\n",
    "    dist += abs(cp-new_cp)\n",
    "    disk.remove(new_cp)\n",
    "    cp = new_cp\n",
    "print(dist)    "
   ]
  },
  {
   "cell_type": "code",
   "execution_count": 4,
   "metadata": {},
   "outputs": [],
   "source": [
    "#c-scan\n",
    "\n",
    "disk = [176, 79, 34, 60, 92, 11, 41, 114]\n",
    "cp = 50\n",
    "start = 0\n",
    "end = 199\n",
    "dist = 0\n",
    "seq = []\n",
    "mode = 1\n",
    "# mode = int(input('Towards large(1) or small(2)'))\n",
    "if mode == 1: # towards big\n",
    "    disk.sort()\n",
    "    for i in range(len(disk)):\n",
    "        if disk[i] >= cp:\n",
    "            dist += (abs(cp-disk[i]) + abs(disk[-1]-disk[i]))\n",
    "            temp = disk[-1]\n",
    "            seq.extend(disk[i:])\n",
    "            disk = disk[:i]\n",
    "            break\n",
    "    if disk:\n",
    "        dist += abs(end-temp) + abs(start-disk[0]) + abs(disk[0]-disk[-1])    \n",
    "        seq.extend(disk)\n",
    "# else:\n",
    "#     disk.sort(reverse=True)\n",
    "#     for i in range(len(disk)):\n",
    "#         if disk[i] <= cp:\n",
    "#             dist += (abs(cp-disk[i]) + abs(start-disk[i]))\n",
    "#             disk = disk[:i]\n",
    "#             break\n",
    "#     if disk:\n",
    "#         dist += abs(end-disk[0]) + abs(disk[0]-disk[-1])            \n",
    "\n",
    "# print(dist)    \n"
   ]
  },
  {
   "cell_type": "code",
   "execution_count": 5,
   "metadata": {},
   "outputs": [
    {
     "data": {
      "text/plain": [
       "190"
      ]
     },
     "execution_count": 5,
     "metadata": {},
     "output_type": "execute_result"
    }
   ],
   "source": [
    "dist"
   ]
  },
  {
   "cell_type": "code",
   "execution_count": 1,
   "metadata": {},
   "outputs": [],
   "source": [
    "    #scan\n",
    "    disk = [176, 79, 34, 60, 92, 11, 41, 114]\n",
    "    cp = 50\n",
    "    start = 0\n",
    "    end = 199\n",
    "    dist = 0\n",
    "    seq = []\n",
    "    mode = 1\n",
    "    # Direction = left (We are moving from right to left)\n",
    "    disk.sort(reverse=True)\n",
    "    for i in range(len(disk)):\n",
    "        if disk[i] <= cp:\n",
    "            dist += (abs(cp-disk[i]) + abs(disk[-1]-disk[i]))\n",
    "            temp = disk[-1]\n",
    "            seq.extend(disk[i:])\n",
    "            disk = disk[:i]\n",
    "            break\n",
    "    if disk:\n",
    "        seq.append(0)\n",
    "        dist += abs(start-temp)+abs(start-disk[i-1]) + abs(disk[i-1] - disk[0])  \n",
    "        disk.reverse()\n",
    "        seq.extend(disk)"
   ]
  },
  {
   "cell_type": "code",
   "execution_count": 2,
   "metadata": {},
   "outputs": [
    {
     "data": {
      "text/plain": [
       "[41, 34, 11, 0, 60, 79, 92, 114, 176]"
      ]
     },
     "execution_count": 2,
     "metadata": {},
     "output_type": "execute_result"
    }
   ],
   "source": [
    "seq"
   ]
  },
  {
   "cell_type": "code",
   "execution_count": 3,
   "metadata": {},
   "outputs": [
    {
     "data": {
      "text/plain": [
       "226"
      ]
     },
     "execution_count": 3,
     "metadata": {},
     "output_type": "execute_result"
    }
   ],
   "source": [
    "dist"
   ]
  },
  {
   "cell_type": "code",
   "execution_count": null,
   "metadata": {},
   "outputs": [],
   "source": []
  }
 ],
 "metadata": {
  "kernelspec": {
   "display_name": "Python 3",
   "language": "python",
   "name": "python3"
  },
  "language_info": {
   "codemirror_mode": {
    "name": "ipython",
    "version": 3
   },
   "file_extension": ".py",
   "mimetype": "text/x-python",
   "name": "python",
   "nbconvert_exporter": "python",
   "pygments_lexer": "ipython3",
   "version": "3.6.9"
  }
 },
 "nbformat": 4,
 "nbformat_minor": 2
}
