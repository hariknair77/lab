{
 "cells": [
  {
   "cell_type": "code",
   "execution_count": 26,
   "metadata": {},
   "outputs": [],
   "source": [
    "file = '/home/hari/Desktop/SSLab/c/assembler/optab.txt'\n",
    "temp = [x.split(' ') for x in open(file).readlines()]      "
   ]
  },
  {
   "cell_type": "code",
   "execution_count": 41,
   "metadata": {},
   "outputs": [],
   "source": [
    "op = [i[0] for i in temp]"
   ]
  },
  {
   "cell_type": "code",
   "execution_count": 49,
   "metadata": {},
   "outputs": [],
   "source": [
    "hex = []\n",
    "for i in temp:\n",
    "    hex.append(i[-1][:-1])"
   ]
  },
  {
   "cell_type": "code",
   "execution_count": 51,
   "metadata": {
    "scrolled": true
   },
   "outputs": [],
   "source": [
    "hex[-1] = 'DC'"
   ]
  },
  {
   "cell_type": "code",
   "execution_count": 65,
   "metadata": {},
   "outputs": [],
   "source": [
    "f = open('/home/hari/Desktop/optab.txt','w')\n",
    "for i in range(len(op)):\n",
    "    f.write(op[i]+' '+hex[i]+'\\n')\n",
    "    "
   ]
  },
  {
   "cell_type": "code",
   "execution_count": 66,
   "metadata": {},
   "outputs": [],
   "source": [
    "f.close()"
   ]
  },
  {
   "cell_type": "code",
   "execution_count": 70,
   "metadata": {},
   "outputs": [
    {
     "data": {
      "text/plain": [
       "['18',\n",
       " '58',\n",
       " '90',\n",
       " '40',\n",
       " 'B4',\n",
       " '28',\n",
       " '88',\n",
       " 'A0',\n",
       " '24',\n",
       " '64',\n",
       " '9C',\n",
       " '3C',\n",
       " '30',\n",
       " '34',\n",
       " '38',\n",
       " '48',\n",
       " '00',\n",
       " '68',\n",
       " '50',\n",
       " '70',\n",
       " '08',\n",
       " '6C',\n",
       " '74',\n",
       " '04',\n",
       " 'D0',\n",
       " '20',\n",
       " '60',\n",
       " '98',\n",
       " '44',\n",
       " 'D8',\n",
       " 'AC',\n",
       " '4C',\n",
       " 'A4',\n",
       " 'A8',\n",
       " '0C',\n",
       " '78',\n",
       " '54',\n",
       " '80',\n",
       " '14',\n",
       " '7C',\n",
       " 'E8',\n",
       " '84',\n",
       " '10',\n",
       " '1C',\n",
       " '5C',\n",
       " '94',\n",
       " 'E0',\n",
       " '2C',\n",
       " 'B8',\n",
       " 'DC']"
      ]
     },
     "execution_count": 70,
     "metadata": {},
     "output_type": "execute_result"
    }
   ],
   "source": [
    "hex"
   ]
  },
  {
   "cell_type": "code",
   "execution_count": null,
   "metadata": {},
   "outputs": [],
   "source": []
  }
 ],
 "metadata": {
  "kernelspec": {
   "display_name": "Python 3",
   "language": "python",
   "name": "python3"
  },
  "language_info": {
   "codemirror_mode": {
    "name": "ipython",
    "version": 3
   },
   "file_extension": ".py",
   "mimetype": "text/x-python",
   "name": "python",
   "nbconvert_exporter": "python",
   "pygments_lexer": "ipython3",
   "version": "3.6.9"
  }
 },
 "nbformat": 4,
 "nbformat_minor": 2
}
