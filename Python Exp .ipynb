{
 "cells": [
  {
   "cell_type": "code",
   "execution_count": null,
   "metadata": {
    "scrolled": false
   },
   "outputs": [],
   "source": [
    "from datetime import datetime \n",
    "from math import sqrt\n",
    "\n",
    "start = datetime.now()\n",
    "res =[]\n",
    "t = int(input())\n",
    "for i in range(t):\n",
    "    limits = list(map(int,input().split(' ')))\n",
    "    prime = []\n",
    "    for j in range(limits[0],limits[-1]+1):\n",
    "        if j>1 and (j%2 != 0 or j%3 != 0 or j%5 != 0 or j%7 != 0 or j%11 != 0 or j%13 != 0) :\n",
    "            for k in range(2,int(sqrt(j)+1)):\n",
    "                if(j%k==0):\n",
    "                    break\n",
    "            else:\n",
    "                 prime.append(j)   \n",
    "    res.append(prime)\t\n",
    "for i in res:\n",
    "    for j in i:\n",
    "        print(j,end=' ')\n",
    "    print('\\n')    \n",
    "print('\\nTotal time =',datetime.now() - start)    "
   ]
  },
  {
   "cell_type": "code",
   "execution_count": null,
   "metadata": {},
   "outputs": [],
   "source": [
    "# your code goes here\n",
    "# import datetime \n",
    "from sympy import primerange\n",
    "\n",
    "# start = datetime.datetime.now()\n",
    "res =[]\n",
    "t = int(input())\n",
    "for i in range(t):\n",
    "    limits = list(map(int,input().split(' ')))\n",
    "    res.append(primerange(limits[0],limits[-1]))\n",
    "    print(type(res[0]))\n",
    "for i in res:\n",
    "    for j in i:\n",
    "        print(j)\n",
    "    print('\\n')    \n",
    "# print('\\nTotal time =',datetime.datetime.now() - start)    "
   ]
  },
  {
   "cell_type": "markdown",
   "metadata": {},
   "source": [
    "Total time = 0:00:03.807941\n",
    "Total time = 0:00:05.736341"
   ]
  },
  {
   "cell_type": "code",
   "execution_count": null,
   "metadata": {},
   "outputs": [],
   "source": [
    "\n",
    "from random import randint\n",
    "\n",
    "n = int(input('Enter number of process :'))\n",
    "process_list = [[i,randint(1,20),randint(1,20)] for i in range(n)]\n",
    "process_list.sort(key=lambda x:x[1])\n",
    "\n",
    "def disp(process):\n",
    "    print('pno\\tArival\\tBurst')\n",
    "    print('*'*25)\n",
    "    for i in process:\n",
    "        for j in i:\n",
    "            print(j,end='\\t')\n",
    "        print('\\n')    \n",
    "\n",
    "disp(process_list)    \n",
    "\n",
    "wt = []\n",
    "tot_wt = 0\n",
    "\n",
    "\n",
    "sjf = []    \n",
    "current_time = process_list[0][1]+process_list[0][2]\n",
    "wt.append([0,process_list[0][1],process_list[0][2]]) # first prorcess\n",
    "tot_turn_around_time = process_list[0][2] # first prorcess burst time \n",
    "sjf.append(process_list.pop(0))\n",
    "\n",
    "i = 0\n",
    "\n",
    "for _ in range(len(process_list)):\n",
    "    temp = [ p for p in process_list if p[1]<=current_time]\n",
    "    if temp:    \n",
    "        next_process = min(temp,key=lambda x:x[2])                    \n",
    "        process_list.remove(next_process)\n",
    "    else:\n",
    "        next_process = process_list.pop(0)\n",
    "    current_time+=(next_process[1]+next_process[2])\n",
    "    sjf.append(next_process)\n",
    "    \n",
    "    waiting_time =  sum(wt[i])-next_process[1] \n",
    "    if waiting_time < 0 :\n",
    "        waiting_time = 0\n",
    "    wt.append([waiting_time,next_process[1],next_process[2]])\n",
    "    tot_wt += waiting_time\n",
    "    tot_turn_around_time += (waiting_time+next_process[2])\n",
    "    i += 1\n",
    "\n",
    "disp(sjf)\n",
    "\n",
    "\n",
    "print(f'Average waiting time = {tot_wt/n}')\n",
    "print(f'Average Turn around time time = {tot_turn_around_time/n}')"
   ]
  },
  {
   "cell_type": "code",
   "execution_count": null,
   "metadata": {},
   "outputs": [],
   "source": [
    "from random import randint\n",
    "\n",
    "# utility function\n",
    "\n",
    "\n",
    "def disp(process):\n",
    "    print('pno\\tArival\\tBurst')\n",
    "    print('*'*25)\n",
    "    for i in process:\n",
    "        for j in i:\n",
    "            print(j, end='\\t')\n",
    "        print('\\n')\n",
    "\n",
    "\n",
    "n = int(input('Enter number of process :'))\n",
    "# creating process using randint\n",
    "process_list = [[i, randint(1, 20), randint(1, 20)] for i in range(n)]\n",
    "print('\\nProcess list')\n",
    "disp(process_list)\n",
    "# sort with arival time\n",
    "process_list.sort(key=lambda x: x[1])\n",
    "# FCFS\n",
    "print('FCFS')\n",
    "disp(process_list)\n",
    "\n",
    "\n",
    "i = 0\n",
    "tot_wt = 0\n",
    "wt = [0]\n",
    "tot_turn_around_time = process_list[0][2]  # first prorcess burst time\n",
    "# wt.append([0, process_list[0][1], process_list[0][2]])  # first prorcess\n",
    "\n",
    "\n",
    "# for process in process_list:\n",
    "#     waiting_time = sum(wt[i])-process[1]\n",
    "#     if waiting_time < 0:\n",
    "#         waiting_time = 0\n",
    "#     wt.append([waiting_time, process[1], process[2]])\n",
    "#     tot_wt += waiting_time\n",
    "#     tot_turn_around_time += (waiting_time+process[2])\n",
    "#     i += 1\n",
    "for i in range(1,len(process_list)-1):\n",
    "    wt.append(wt[i]+sum(process_list[i-1][1:]) - process_list[i][1])\n",
    "\n",
    "\n",
    "# print(f'Average waiting time = {tot_wt/n}')\n",
    "# print(f'Average Turn around time time = {tot_turn_around_time/n}')\n"
   ]
  },
  {
   "cell_type": "code",
   "execution_count": null,
   "metadata": {},
   "outputs": [],
   "source": [
    "from random import randint\n",
    "from operator import add\n",
    "\n",
    "def disp(process):\n",
    "    print('pno\\tBurst')\n",
    "    print('*'*25)\n",
    "    for i in process:\n",
    "        for j in i:\n",
    "            print(j, end='\\t')\n",
    "        print('\\n')\n",
    "\n",
    "\n",
    "n = int(input('Enter number of process :'))\n",
    "process_list = [[i,randint(1, 20)] for i in range(n)]\n",
    "disp(process_list)\n",
    "\n",
    "wt = [0]\n",
    "bt = [j[1] for j in process_list]\n",
    "\n",
    "for i in range(len(process_list)-1):\n",
    "    wt.append(wt[i]+bt[i])\n",
    "tt = list(map(add,wt,bt)) \n",
    "    \n",
    "print(f'Average waiting time = {sum(wt)/n}')\n",
    "print(f'Average Turn around time time = {sum(tt)/n}')"
   ]
  },
  {
   "cell_type": "code",
   "execution_count": null,
   "metadata": {},
   "outputs": [],
   "source": [
    "from operator import itemgetter\n",
    "plist.sort(key = itemgetter(1,2) )\n",
    "print(plist)"
   ]
  },
  {
   "cell_type": "code",
   "execution_count": 8,
   "metadata": {},
   "outputs": [
    {
     "name": "stdout",
     "output_type": "stream",
     "text": [
      "[[0, 6], [1, 4], [2, 5]]\n",
      "[[0, 3], [1, 3], [2, 3], [0, 3], [2, 2], [1, 1]]\n"
     ]
    }
   ],
   "source": [
    "from random import randint\n",
    "\n",
    "# n = int(input('Enter number of process :'))\n",
    "# process_list = [[i,randint(1,20)] for i in range(n)]\n",
    "process_list=[[0,6],[1,4],[2,5]]\n",
    "time_quantum =3\n",
    "print(process_list)\n",
    "rr = []\n",
    "while process_list:\n",
    "    for p in process_list:\n",
    "        if p[1] <= time_quantum:\n",
    "            rr.append(p)\n",
    "            process_list.remove(p)\n",
    "        else:\n",
    "            rr.append([p[0],time_quantum])\n",
    "            p[1] -= time_quantum\n",
    "            process_list.append(process_list.pop())\n",
    "print(rr)"
   ]
  },
  {
   "cell_type": "code",
   "execution_count": 9,
   "metadata": {},
   "outputs": [
    {
     "data": {
      "text/plain": [
       "[[0, 3], [1, 3], [2, 3], [0, 3], [2, 2], [1, 1]]"
      ]
     },
     "execution_count": 9,
     "metadata": {},
     "output_type": "execute_result"
    }
   ],
   "source": [
    "rr"
   ]
  },
  {
   "cell_type": "code",
   "execution_count": 1,
   "metadata": {},
   "outputs": [],
   "source": [
    "a = []\n",
    "for i in range(1,11):\n",
    "    a.append(i*i)\n",
    "    "
   ]
  },
  {
   "cell_type": "code",
   "execution_count": 2,
   "metadata": {},
   "outputs": [
    {
     "data": {
      "text/plain": [
       "[1, 4, 9, 16, 25, 36, 49, 64, 81, 100]"
      ]
     },
     "execution_count": 2,
     "metadata": {},
     "output_type": "execute_result"
    }
   ],
   "source": [
    "a"
   ]
  },
  {
   "cell_type": "code",
   "execution_count": 3,
   "metadata": {},
   "outputs": [
    {
     "data": {
      "text/plain": [
       "[1, 4, 9, 16, 25, 36, 49, 64, 81, 100]"
      ]
     },
     "execution_count": 3,
     "metadata": {},
     "output_type": "execute_result"
    }
   ],
   "source": [
    "[i*i for i in range(1,11)]"
   ]
  },
  {
   "cell_type": "code",
   "execution_count": 7,
   "metadata": {},
   "outputs": [
    {
     "data": {
      "text/plain": [
       "[6, 2, 6, 1, 6, 1, 2, 2, 1, 10]"
      ]
     },
     "execution_count": 7,
     "metadata": {},
     "output_type": "execute_result"
    }
   ],
   "source": [
    "from random import randint \n",
    "[randint(1,10) for i in range(10)]"
   ]
  },
  {
   "cell_type": "code",
   "execution_count": null,
   "metadata": {},
   "outputs": [],
   "source": []
  }
 ],
 "metadata": {
  "kernelspec": {
   "display_name": "Python 3",
   "language": "python",
   "name": "python3"
  },
  "language_info": {
   "codemirror_mode": {
    "name": "ipython",
    "version": 3
   },
   "file_extension": ".py",
   "mimetype": "text/x-python",
   "name": "python",
   "nbconvert_exporter": "python",
   "pygments_lexer": "ipython3",
   "version": "3.6.9"
  }
 },
 "nbformat": 4,
 "nbformat_minor": 2
}
